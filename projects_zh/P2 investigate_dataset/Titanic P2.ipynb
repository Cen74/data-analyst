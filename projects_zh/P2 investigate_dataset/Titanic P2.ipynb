{
 "cells": [
  {
   "cell_type": "markdown",
   "metadata": {
    "deletable": true,
    "editable": true
   },
   "source": [
    "# 1. 数据介绍/提出问题\n",
    "\n",
    "titanica_data.csv 包含了泰坦尼克部分乘客的具体信息，如年龄、性别等"
   ]
  },
  {
   "cell_type": "code",
   "execution_count": 1,
   "metadata": {
    "collapsed": false,
    "deletable": true,
    "editable": true
   },
   "outputs": [
    {
     "name": "stderr",
     "output_type": "stream",
     "text": [
      "/Users/lihongcen/.pyenv/versions/anaconda-2.4.0/lib/python2.7/site-packages/matplotlib/font_manager.py:273: UserWarning: Matplotlib is building the font cache using fc-list. This may take a moment.\n",
      "  warnings.warn('Matplotlib is building the font cache using fc-list. This may take a moment.')\n"
     ]
    },
    {
     "name": "stdout",
     "output_type": "stream",
     "text": [
      "Populating the interactive namespace from numpy and matplotlib\n"
     ]
    }
   ],
   "source": [
    "import numpy as np\n",
    "import pandas as pd\n",
    "import matplotlib.pyplot as plt\n",
    "import seaborn\n",
    "%pylab inline "
   ]
  },
  {
   "cell_type": "code",
   "execution_count": 2,
   "metadata": {
    "collapsed": false,
    "deletable": true,
    "editable": true
   },
   "outputs": [
    {
     "name": "stdout",
     "output_type": "stream",
     "text": [
      "<class 'pandas.core.frame.DataFrame'>\n",
      "RangeIndex: 891 entries, 0 to 890\n",
      "Data columns (total 12 columns):\n",
      "PassengerId    891 non-null int64\n",
      "Survived       891 non-null int64\n",
      "Pclass         891 non-null int64\n",
      "Name           891 non-null object\n",
      "Sex            891 non-null object\n",
      "Age            714 non-null float64\n",
      "SibSp          891 non-null int64\n",
      "Parch          891 non-null int64\n",
      "Ticket         891 non-null object\n",
      "Fare           891 non-null float64\n",
      "Cabin          204 non-null object\n",
      "Embarked       889 non-null object\n",
      "dtypes: float64(2), int64(5), object(5)\n",
      "memory usage: 83.6+ KB\n",
      "None\n",
      "   PassengerId  Survived  Pclass  \\\n",
      "0            1         0       3   \n",
      "1            2         1       1   \n",
      "2            3         1       3   \n",
      "3            4         1       1   \n",
      "4            5         0       3   \n",
      "\n",
      "                                                Name     Sex   Age  SibSp  \\\n",
      "0                            Braund, Mr. Owen Harris    male  22.0      1   \n",
      "1  Cumings, Mrs. John Bradley (Florence Briggs Th...  female  38.0      1   \n",
      "2                             Heikkinen, Miss. Laina  female  26.0      0   \n",
      "3       Futrelle, Mrs. Jacques Heath (Lily May Peel)  female  35.0      1   \n",
      "4                           Allen, Mr. William Henry    male  35.0      0   \n",
      "\n",
      "   Parch            Ticket     Fare Cabin Embarked  \n",
      "0      0         A/5 21171   7.2500   NaN        S  \n",
      "1      0          PC 17599  71.2833   C85        C  \n",
      "2      0  STON/O2. 3101282   7.9250   NaN        S  \n",
      "3      0            113803  53.1000  C123        S  \n",
      "4      0            373450   8.0500   NaN        S  \n"
     ]
    }
   ],
   "source": [
    "titanic_data = pd.read_csv('titanic_data.csv')\n",
    "print titanic_data.info()\n",
    "print titanic_data.head()"
   ]
  },
  {
   "cell_type": "code",
   "execution_count": 3,
   "metadata": {
    "collapsed": false,
    "deletable": true,
    "editable": true
   },
   "outputs": [
    {
     "data": {
      "text/html": [
       "<div>\n",
       "<table border=\"1\" class=\"dataframe\">\n",
       "  <thead>\n",
       "    <tr style=\"text-align: right;\">\n",
       "      <th></th>\n",
       "      <th>PassengerId</th>\n",
       "      <th>Survived</th>\n",
       "      <th>Pclass</th>\n",
       "      <th>Age</th>\n",
       "      <th>SibSp</th>\n",
       "      <th>Parch</th>\n",
       "      <th>Fare</th>\n",
       "    </tr>\n",
       "  </thead>\n",
       "  <tbody>\n",
       "    <tr>\n",
       "      <th>count</th>\n",
       "      <td>891.000000</td>\n",
       "      <td>891.000000</td>\n",
       "      <td>891.000000</td>\n",
       "      <td>714.000000</td>\n",
       "      <td>891.000000</td>\n",
       "      <td>891.000000</td>\n",
       "      <td>891.000000</td>\n",
       "    </tr>\n",
       "    <tr>\n",
       "      <th>mean</th>\n",
       "      <td>446.000000</td>\n",
       "      <td>0.383838</td>\n",
       "      <td>2.308642</td>\n",
       "      <td>29.699118</td>\n",
       "      <td>0.523008</td>\n",
       "      <td>0.381594</td>\n",
       "      <td>32.204208</td>\n",
       "    </tr>\n",
       "    <tr>\n",
       "      <th>std</th>\n",
       "      <td>257.353842</td>\n",
       "      <td>0.486592</td>\n",
       "      <td>0.836071</td>\n",
       "      <td>14.526497</td>\n",
       "      <td>1.102743</td>\n",
       "      <td>0.806057</td>\n",
       "      <td>49.693429</td>\n",
       "    </tr>\n",
       "    <tr>\n",
       "      <th>min</th>\n",
       "      <td>1.000000</td>\n",
       "      <td>0.000000</td>\n",
       "      <td>1.000000</td>\n",
       "      <td>0.420000</td>\n",
       "      <td>0.000000</td>\n",
       "      <td>0.000000</td>\n",
       "      <td>0.000000</td>\n",
       "    </tr>\n",
       "    <tr>\n",
       "      <th>25%</th>\n",
       "      <td>223.500000</td>\n",
       "      <td>0.000000</td>\n",
       "      <td>2.000000</td>\n",
       "      <td>20.125000</td>\n",
       "      <td>0.000000</td>\n",
       "      <td>0.000000</td>\n",
       "      <td>7.910400</td>\n",
       "    </tr>\n",
       "    <tr>\n",
       "      <th>50%</th>\n",
       "      <td>446.000000</td>\n",
       "      <td>0.000000</td>\n",
       "      <td>3.000000</td>\n",
       "      <td>28.000000</td>\n",
       "      <td>0.000000</td>\n",
       "      <td>0.000000</td>\n",
       "      <td>14.454200</td>\n",
       "    </tr>\n",
       "    <tr>\n",
       "      <th>75%</th>\n",
       "      <td>668.500000</td>\n",
       "      <td>1.000000</td>\n",
       "      <td>3.000000</td>\n",
       "      <td>38.000000</td>\n",
       "      <td>1.000000</td>\n",
       "      <td>0.000000</td>\n",
       "      <td>31.000000</td>\n",
       "    </tr>\n",
       "    <tr>\n",
       "      <th>max</th>\n",
       "      <td>891.000000</td>\n",
       "      <td>1.000000</td>\n",
       "      <td>3.000000</td>\n",
       "      <td>80.000000</td>\n",
       "      <td>8.000000</td>\n",
       "      <td>6.000000</td>\n",
       "      <td>512.329200</td>\n",
       "    </tr>\n",
       "  </tbody>\n",
       "</table>\n",
       "</div>"
      ],
      "text/plain": [
       "       PassengerId    Survived      Pclass         Age       SibSp  \\\n",
       "count   891.000000  891.000000  891.000000  714.000000  891.000000   \n",
       "mean    446.000000    0.383838    2.308642   29.699118    0.523008   \n",
       "std     257.353842    0.486592    0.836071   14.526497    1.102743   \n",
       "min       1.000000    0.000000    1.000000    0.420000    0.000000   \n",
       "25%     223.500000    0.000000    2.000000   20.125000    0.000000   \n",
       "50%     446.000000    0.000000    3.000000   28.000000    0.000000   \n",
       "75%     668.500000    1.000000    3.000000   38.000000    1.000000   \n",
       "max     891.000000    1.000000    3.000000   80.000000    8.000000   \n",
       "\n",
       "            Parch        Fare  \n",
       "count  891.000000  891.000000  \n",
       "mean     0.381594   32.204208  \n",
       "std      0.806057   49.693429  \n",
       "min      0.000000    0.000000  \n",
       "25%      0.000000    7.910400  \n",
       "50%      0.000000   14.454200  \n",
       "75%      0.000000   31.000000  \n",
       "max      6.000000  512.329200  "
      ]
     },
     "execution_count": 3,
     "metadata": {},
     "output_type": "execute_result"
    }
   ],
   "source": [
    "titanic_data.describe()"
   ]
  },
  {
   "cell_type": "markdown",
   "metadata": {
    "deletable": true,
    "editable": true
   },
   "source": [
    "## 1.1 基本数据\n",
    "数据字典\n",
    "- survival\tSurvival\t0 = No, 1 = Yes\n",
    "- pclass\tTicket class\t1 = 1st, 2 = 2nd, 3 = 3rd\n",
    "- sex\tSex\t\n",
    "- Age\tAge in years\t\n",
    "- sibsp\t# of siblings / spouses aboard the Titanic\t\n",
    "- parch\t# of parents / children aboard the Titanic\t\n",
    "- ticket\tTicket number\t\n",
    "- fare\tPassenger fare\t\n",
    "- cabin\tCabin number\t\n",
    "- embarked\tPort of Embarkation\n",
    "\n",
    "基本情况\n",
    "- age, cabin, embarked 数据不全（NaN）\n",
    "- fare 的最高值为512，远大于平均值和75分位不太合理\n"
   ]
  },
  {
   "cell_type": "markdown",
   "metadata": {
    "deletable": true,
    "editable": true
   },
   "source": [
    "## 1.2 问题\n",
    "\n",
    "- 乘客的生存率是多少，性别、仓位、年龄分别的生存率如何\n",
    "- 统计上能否有明显的父母把生存机会让给自己的孩子的情况出线\n",
    "- 伴侣/兄妹之间，不同性别生存率是否有明显差异"
   ]
  },
  {
   "cell_type": "markdown",
   "metadata": {
    "deletable": true,
    "editable": true
   },
   "source": [
    "# 2. 数据整理"
   ]
  },
  {
   "cell_type": "markdown",
   "metadata": {
    "deletable": true,
    "editable": true
   },
   "source": [
    "检查 PassgenId 的值是否唯一"
   ]
  },
  {
   "cell_type": "code",
   "execution_count": 4,
   "metadata": {
    "collapsed": false,
    "deletable": true,
    "editable": true
   },
   "outputs": [
    {
     "data": {
      "text/plain": [
       "True"
      ]
     },
     "execution_count": 4,
     "metadata": {},
     "output_type": "execute_result"
    }
   ],
   "source": [
    "len(titanic_data['PassengerId'].unique()) == len(titanic_data.index)"
   ]
  },
  {
   "cell_type": "markdown",
   "metadata": {
    "deletable": true,
    "editable": true
   },
   "source": [
    "查看 Pclass\\Age\\Sex 的分布"
   ]
  },
  {
   "cell_type": "code",
   "execution_count": 5,
   "metadata": {
    "collapsed": false,
    "deletable": true,
    "editable": true
   },
   "outputs": [
    {
     "data": {
      "text/plain": [
       "<matplotlib.axes._subplots.AxesSubplot at 0x110ca4b90>"
      ]
     },
     "execution_count": 5,
     "metadata": {},
     "output_type": "execute_result"
    },
    {
     "data": {
      "image/png": "[encoded data removed]",
      "text/plain": [
       "<matplotlib.figure.Figure at 0x110bbb890>"
      ]
     },
     "metadata": {},
     "output_type": "display_data"
    }
   ],
   "source": [
    "fig, axes = plt.subplots(3, 1)\n",
    "titanic_data.groupby('Pclass').count()['Survived'].plot.bar(ax=axes[0], figsize=(8,12))\n",
    "titanic_data.groupby('Sex').count()['Survived'].plot.bar(ax=axes[1], title='Sex')\n",
    "\n",
    "titanic_data['Age'].plot.hist(title='Age distribution', ax=axes[2])\n",
    "\n",
    "#离散数据用直方图不太合适\n",
    "\n",
    "#titanic_data['Pclass'].plot.hist(title='Pclass distribution', ax=axes[0],figsize=(10,10))\n",
    "#titanic_data['Age'].plot.hist(title='Age distribution', ax=axes[1])\n",
    "#titanic_data['PassengerId'].plot.hist(title='PassengerId distribution', ax=axes[2])\n",
    "# figsize与layout size 的区别和设置 "
   ]
  },
  {
   "cell_type": "markdown",
   "metadata": {
    "deletable": true,
    "editable": true
   },
   "source": [
    "## 2.1 Age 数据处理"
   ]
  },
  {
   "cell_type": "code",
   "execution_count": 6,
   "metadata": {
    "collapsed": false,
    "deletable": true,
    "editable": true
   },
   "outputs": [
    {
     "name": "stdout",
     "output_type": "stream",
     "text": [
      "title\n",
      " Dr          1\n",
      " Master      4\n",
      " Miss       36\n",
      " Mr        119\n",
      " Mrs        17\n",
      "Name: PassengerId, dtype: int64\n"
     ]
    },
    {
     "data": {
      "text/plain": [
       "[<matplotlib.text.Text at 0x11132e9d0>,\n",
       " <matplotlib.text.Text at 0x111329bd0>,\n",
       " <matplotlib.text.Text at 0x11132e410>]"
      ]
     },
     "execution_count": 6,
     "metadata": {},
     "output_type": "execute_result"
    },
    {
     "data": {
      "image/png": "[encoded data removed]",
      "text/plain": [
       "<matplotlib.figure.Figure at 0x110bbb7d0>"
      ]
     },
     "metadata": {},
     "output_type": "display_data"
    }
   ],
   "source": [
    "len(titanic_data[pd.isnull(titanic_data['Age'])].index) #177个Age 为NaN情况\n",
    "\n",
    "name_g = pd.DataFrame(titanic_data['Name'].str.split(',').tolist()) # 将乘客名字变为新的Dataframe\n",
    "name_g1 = pd.DataFrame(name_g.iloc[:,1].str.split('.',1).tolist()) #分离出称呼 Mrs\n",
    "\n",
    "titanic_data['title'] = name_g1.iloc[:,0] # 将称呼加入到数据集里\n",
    "print titanic_data[titanic_data['Age'].isnull()].groupby('title').count()['PassengerId'] #查看年龄为空的title分布\n",
    "#print titanic_data[~(titanic_data['Age'].isnull())].groupby('title').count()['PassengerId'] #查看年龄不为空的title分布\n",
    "\n",
    "# AgeNew 将NaN的年纪根据称呼中位数填入\n",
    "def fill_age(grp):\n",
    "    grp['AgeNew'] = np.where(grp['Age'].isnull(), grp['Age'].median(),grp['Age'])\n",
    "    return grp\n",
    "\n",
    "titanic_data = titanic_data.groupby('title').apply(fill_age)\n",
    "\n",
    "\n",
    "ax1 = titanic_data['Age'].plot(kind='hist', color='b', alpha=0.5)\n",
    "ax2 = titanic_data['AgeNew'].plot(kind='hist', color='k', alpha=0.5)\n",
    "ax2.set(xlabel='Age', ylabel='Frequency', title='Age vs AgeNew')\n"
   ]
  },
  {
   "cell_type": "markdown",
   "metadata": {
    "deletable": true,
    "editable": true
   },
   "source": [
    "Mr. 有119个年龄为NaN，按称呼将年龄中位数填入后，30岁人明显增高, 由于只是猜测，分析仍使用'Age'。"
   ]
  },
  {
   "cell_type": "markdown",
   "metadata": {
    "deletable": true,
    "editable": true
   },
   "source": [
    "## 2.2 Fare 处理"
   ]
  },
  {
   "cell_type": "markdown",
   "metadata": {
    "deletable": true,
    "editable": true
   },
   "source": [
    "车票价格最高值为512有异常，找出3倍标准差以上的值，发现对应都是对应仓位1 "
   ]
  },
  {
   "cell_type": "code",
   "execution_count": 7,
   "metadata": {
    "collapsed": false,
    "deletable": true,
    "editable": true
   },
   "outputs": [
    {
     "data": {
      "text/plain": [
       "27     263.0000\n",
       "88     263.0000\n",
       "118    247.5208\n",
       "258    512.3292\n",
       "299    247.5208\n",
       "311    262.3750\n",
       "341    263.0000\n",
       "377    211.5000\n",
       "380    227.5250\n",
       "438    263.0000\n",
       "527    221.7792\n",
       "557    227.5250\n",
       "679    512.3292\n",
       "689    211.3375\n",
       "700    227.5250\n",
       "716    227.5250\n",
       "730    211.3375\n",
       "737    512.3292\n",
       "742    262.3750\n",
       "779    211.3375\n",
       "Name: Fare, dtype: float64"
      ]
     },
     "execution_count": 7,
     "metadata": {},
     "output_type": "execute_result"
    }
   ],
   "source": [
    "fare = titanic_data['Fare']\n",
    "abnormal_fare = fare > (fare.mean()+3*fare.std())\n",
    "fare[abnormal_fare]"
   ]
  },
  {
   "cell_type": "code",
   "execution_count": 8,
   "metadata": {
    "collapsed": false,
    "deletable": true,
    "editable": true
   },
   "outputs": [
    {
     "data": {
      "text/html": [
       "<div>\n",
       "<table border=\"1\" class=\"dataframe\">\n",
       "  <thead>\n",
       "    <tr style=\"text-align: right;\">\n",
       "      <th></th>\n",
       "      <th>PassengerId</th>\n",
       "      <th>Survived</th>\n",
       "      <th>Age</th>\n",
       "      <th>SibSp</th>\n",
       "      <th>Parch</th>\n",
       "      <th>Fare</th>\n",
       "      <th>AgeNew</th>\n",
       "    </tr>\n",
       "    <tr>\n",
       "      <th>Pclass</th>\n",
       "      <th></th>\n",
       "      <th></th>\n",
       "      <th></th>\n",
       "      <th></th>\n",
       "      <th></th>\n",
       "      <th></th>\n",
       "      <th></th>\n",
       "    </tr>\n",
       "  </thead>\n",
       "  <tbody>\n",
       "    <tr>\n",
       "      <th>1</th>\n",
       "      <td>461.597222</td>\n",
       "      <td>0.629630</td>\n",
       "      <td>38.233441</td>\n",
       "      <td>0.416667</td>\n",
       "      <td>0.356481</td>\n",
       "      <td>84.154687</td>\n",
       "      <td>37.309815</td>\n",
       "    </tr>\n",
       "    <tr>\n",
       "      <th>2</th>\n",
       "      <td>445.956522</td>\n",
       "      <td>0.472826</td>\n",
       "      <td>29.877630</td>\n",
       "      <td>0.402174</td>\n",
       "      <td>0.380435</td>\n",
       "      <td>20.662183</td>\n",
       "      <td>29.787120</td>\n",
       "    </tr>\n",
       "    <tr>\n",
       "      <th>3</th>\n",
       "      <td>439.154786</td>\n",
       "      <td>0.242363</td>\n",
       "      <td>25.140620</td>\n",
       "      <td>0.615071</td>\n",
       "      <td>0.393075</td>\n",
       "      <td>13.675550</td>\n",
       "      <td>25.757475</td>\n",
       "    </tr>\n",
       "  </tbody>\n",
       "</table>\n",
       "</div>"
      ],
      "text/plain": [
       "        PassengerId  Survived        Age     SibSp     Parch       Fare  \\\n",
       "Pclass                                                                    \n",
       "1        461.597222  0.629630  38.233441  0.416667  0.356481  84.154687   \n",
       "2        445.956522  0.472826  29.877630  0.402174  0.380435  20.662183   \n",
       "3        439.154786  0.242363  25.140620  0.615071  0.393075  13.675550   \n",
       "\n",
       "           AgeNew  \n",
       "Pclass             \n",
       "1       37.309815  \n",
       "2       29.787120  \n",
       "3       25.757475  "
      ]
     },
     "execution_count": 8,
     "metadata": {},
     "output_type": "execute_result"
    }
   ],
   "source": [
    "titanic_data.groupby('Pclass').mean()"
   ]
  },
  {
   "cell_type": "code",
   "execution_count": 9,
   "metadata": {
    "collapsed": false,
    "deletable": true,
    "editable": true
   },
   "outputs": [
    {
     "data": {
      "text/plain": [
       "27     1\n",
       "88     1\n",
       "118    1\n",
       "258    1\n",
       "299    1\n",
       "311    1\n",
       "341    1\n",
       "377    1\n",
       "380    1\n",
       "438    1\n",
       "527    1\n",
       "557    1\n",
       "679    1\n",
       "689    1\n",
       "700    1\n",
       "716    1\n",
       "730    1\n",
       "737    1\n",
       "742    1\n",
       "779    1\n",
       "Name: Pclass, dtype: int64"
      ]
     },
     "execution_count": 9,
     "metadata": {},
     "output_type": "execute_result"
    }
   ],
   "source": [
    "titanic_data['Pclass'][abnormal_fare]"
   ]
  },
  {
   "cell_type": "markdown",
   "metadata": {
    "deletable": true,
    "editable": true
   },
   "source": [
    "查询不同等级的金额范围，发现都有票价为0的情况，最高值都显著大于平均值"
   ]
  },
  {
   "cell_type": "code",
   "execution_count": 10,
   "metadata": {
    "collapsed": false,
    "deletable": true,
    "editable": true
   },
   "outputs": [
    {
     "data": {
      "text/plain": [
       "Pclass\n",
       "1    (0.0, 512.3292)\n",
       "2        (0.0, 73.5)\n",
       "3       (0.0, 69.55)\n",
       "Name: Fare, dtype: object"
      ]
     },
     "execution_count": 10,
     "metadata": {},
     "output_type": "execute_result"
    }
   ],
   "source": [
    "titanic_data.groupby('Pclass')['Fare'].apply(lambda x: (x.min(), x.max()))"
   ]
  },
  {
   "cell_type": "code",
   "execution_count": 11,
   "metadata": {
    "collapsed": false,
    "deletable": true,
    "editable": true
   },
   "outputs": [
    {
     "name": "stdout",
     "output_type": "stream",
     "text": [
      "15\n"
     ]
    }
   ],
   "source": [
    "print (titanic_data['Fare'] == 0).sum()"
   ]
  },
  {
   "cell_type": "markdown",
   "metadata": {
    "deletable": true,
    "editable": true
   },
   "source": [
    "15个乘客购票价格为0 "
   ]
  },
  {
   "cell_type": "code",
   "execution_count": 14,
   "metadata": {
    "collapsed": false,
    "deletable": true,
    "editable": true
   },
   "outputs": [
    {
     "name": "stdout",
     "output_type": "stream",
     "text": [
      "     PassengerId  Survived  Pclass                             Name   Sex  \\\n",
      "263          264         0       1            Harrison, Mr. William  male   \n",
      "633          634         0       1    Parr, Mr. William Henry Marsh  male   \n",
      "806          807         0       1           Andrews, Mr. Thomas Jr  male   \n",
      "815          816         0       1                 Fry, Mr. Richard  male   \n",
      "822          823         0       1  Reuchlin, Jonkheer. John George  male   \n",
      "\n",
      "      Age  SibSp  Parch  Ticket  Fare Cabin Embarked      title  AgeNew  \n",
      "263  40.0      0      0  112059   0.0   B94        S         Mr    40.0  \n",
      "633   NaN      0      0  112052   0.0   NaN        S         Mr    30.0  \n",
      "806  39.0      0      0  112050   0.0   A36        S         Mr    39.0  \n",
      "815   NaN      0      0  112058   0.0  B102        S         Mr    30.0  \n",
      "822  38.0      0      0   19972   0.0   NaN        S   Jonkheer    38.0  \n"
     ]
    }
   ],
   "source": [
    "Pclass_1_fare_0 = (titanic_data['Pclass'] == 1) & (titanic_data['Fare'] == 0)\n",
    "print titanic_data[Pclass_1_fare_0]\n",
    "# print titanic_data.iloc[titanic_data['Fare'].argmax()]['Name']"
   ]
  },
  {
   "cell_type": "markdown",
   "metadata": {},
   "source": [
    "查看 仓位1，船票费用为0的乘客信息，没有发现规律"
   ]
  },
  {
   "cell_type": "code",
   "execution_count": 13,
   "metadata": {
    "collapsed": false,
    "deletable": true,
    "editable": true
   },
   "outputs": [
    {
     "name": "stdout",
     "output_type": "stream",
     "text": [
      "Pclass  Embarked\n",
      "1       C            85\n",
      "        Q             2\n",
      "        S           127\n",
      "2       C            17\n",
      "        Q             3\n",
      "        S           164\n",
      "3       C            66\n",
      "        Q            72\n",
      "        S           353\n",
      "dtype: int64\n"
     ]
    },
    {
     "data": {
      "image/png": "[encoded data removed]",
      "text/plain": [
       "<matplotlib.figure.Figure at 0x113c7fe10>"
      ]
     },
     "metadata": {},
     "output_type": "display_data"
    }
   ],
   "source": [
    "#按仓位和登船点统计船票价格箱体图\n",
    "# titanic_data.boxplot(column='Fare', by=['Pclass', 'Embarked'],showfliers=False) \n",
    "seaborn.factorplot(\"Pclass\", hue=\"Embarked\", y=\"Fare\", data=titanic_data, kind=\"box\",sym = '')\n",
    "print titanic_data.groupby(['Pclass', 'Embarked'])['Fare'].size()"
   ]
  },
  {
   "cell_type": "markdown",
   "metadata": {
    "deletable": true,
    "editable": true
   },
   "source": [
    "暂时不知道如何处理，所幸不影响分析"
   ]
  },
  {
   "cell_type": "markdown",
   "metadata": {
    "deletable": true,
    "editable": true
   },
   "source": [
    "# 数据分析"
   ]
  },
  {
   "cell_type": "code",
   "execution_count": 15,
   "metadata": {
    "collapsed": false,
    "deletable": true,
    "editable": true
   },
   "outputs": [
    {
     "name": "stdout",
     "output_type": "stream",
     "text": [
      "The whole population survived rate is:  0.383838383838\n"
     ]
    }
   ],
   "source": [
    "# 总生存率\n",
    "total_survived_rate = titanic_data['Survived'].sum() / float(len(titanic_data.index))\n",
    "print \"The whole population survived rate is: \", total_survived_rate"
   ]
  },
  {
   "cell_type": "markdown",
   "metadata": {
    "deletable": true,
    "editable": true
   },
   "source": [
    "## 3.1 仓位与生存率关系"
   ]
  },
  {
   "cell_type": "code",
   "execution_count": 16,
   "metadata": {
    "collapsed": false,
    "deletable": true,
    "editable": true
   },
   "outputs": [
    {
     "name": "stdout",
     "output_type": "stream",
     "text": [
      "        survived  total  Survived\n",
      "Pclass                           \n",
      "1            136    216  0.629630\n",
      "2             87    184  0.472826\n",
      "3            119    491  0.242363\n"
     ]
    },
    {
     "data": {
      "image/png": "[encoded data removed]",
      "text/plain": [
       "<matplotlib.figure.Figure at 0x113f1d510>"
      ]
     },
     "metadata": {},
     "output_type": "display_data"
    }
   ],
   "source": [
    "# 定义计算生存率和画图的函数\n",
    "def survived_by_field(data, field):\n",
    "    groups = data.groupby(field)\n",
    "    \n",
    "    survived_num = groups.sum()['Survived']\n",
    "    total_num = groups.count()['Survived']\n",
    "    percent = survived_num / total_num \n",
    "    \n",
    "    table = pd.concat([survived_num, total_num], axis=1)\n",
    "    table.columns = ['survived', 'total']\n",
    "\n",
    "    fig, axes = plt.subplots(2, 1)\n",
    "    table.plot.bar(ax=axes[0], figsize=(10, 8), use_index=True, rot=0, \\\n",
    "                   title=('The Survived distribution of '+field))   \n",
    "    axes[0].set_ylabel(\"Number of person\")\n",
    "    \n",
    "\n",
    "    \n",
    "    percent.plot(kind='bar', ax=axes[1], use_index=True, rot=0, \\\n",
    "                 title=('The Survived percent of '+field))\n",
    "    axes[1].set_ylabel(\"Percent Rate\")\n",
    "    \n",
    "    plt.subplots_adjust(hspace=0.3) #拉长subplot 间距\n",
    "\n",
    "    table = pd.concat([table, percent], axis=1 )\n",
    "    print table\n",
    "\n",
    "\n",
    "survived_by_field(titanic_data, 'Pclass')\n",
    "\n",
    "\n",
    "#survived_percent.plot.barh()\n",
    "#plt.bar(Pclass_group.count()['Survived'].index, Pclass_group.count()['Survived'].values)"
   ]
  },
  {
   "cell_type": "markdown",
   "metadata": {
    "deletable": true,
    "editable": true
   },
   "source": [
    "头等舱的生存率显著高于平均值为 0.62, 生存率根据仓位依次下降\n"
   ]
  },
  {
   "cell_type": "markdown",
   "metadata": {
    "deletable": true,
    "editable": true
   },
   "source": [
    "## 3.2 性别与生存率关系 "
   ]
  },
  {
   "cell_type": "code",
   "execution_count": 17,
   "metadata": {
    "collapsed": false,
    "deletable": true,
    "editable": true
   },
   "outputs": [
    {
     "ename": "NameError",
     "evalue": "name 'titanic_data_c' is not defined",
     "output_type": "error",
     "traceback": [
      "\u001b[0;31m---------------------------------------------------------------------------\u001b[0m",
      "\u001b[0;31mNameError\u001b[0m                                 Traceback (most recent call last)",
      "\u001b[0;32m<ipython-input-17-d798037a99cf>\u001b[0m in \u001b[0;36m<module>\u001b[0;34m()\u001b[0m\n\u001b[0;32m----> 1\u001b[0;31m \u001b[0msurvived_by_field\u001b[0m\u001b[0;34m(\u001b[0m\u001b[0mtitanic_data_c\u001b[0m\u001b[0;34m,\u001b[0m \u001b[0;34m'Sex'\u001b[0m\u001b[0;34m)\u001b[0m\u001b[0;34m\u001b[0m\u001b[0m\n\u001b[0m",
      "\u001b[0;31mNameError\u001b[0m: name 'titanic_data_c' is not defined"
     ]
    }
   ],
   "source": [
    "survived_by_field(titanic_data_c, 'Sex')"
   ]
  },
  {
   "cell_type": "markdown",
   "metadata": {
    "deletable": true,
    "editable": true
   },
   "source": [
    "女性生存率明显高于男性为0.74"
   ]
  },
  {
   "cell_type": "markdown",
   "metadata": {
    "deletable": true,
    "editable": true
   },
   "source": [
    "## 3.3 年龄与生存率关系"
   ]
  },
  {
   "cell_type": "code",
   "execution_count": 246,
   "metadata": {
    "collapsed": false,
    "deletable": true,
    "editable": true
   },
   "outputs": [
    {
     "name": "stdout",
     "output_type": "stream",
     "text": [
      "           survived  total  Survived\n",
      "Age Group                           \n",
      "(0, 6]           33     47  0.702128\n",
      "(6, 18]          37     92  0.402174\n",
      "(18, 30]         96    270  0.355556\n",
      "(30, 60]        119    283  0.420495\n",
      "(60, 90]          5     22  0.227273\n"
     ]
    },
    {
     "data": {
      "image/png": "[encoded data removed]",
      "text/plain": [
       "<matplotlib.figure.Figure at 0x11fd12a90>"
      ]
     },
     "metadata": {},
     "output_type": "display_data"
    }
   ],
   "source": [
    "titanic_data['Age Group'] = pd.cut(titanic_data['Age'], bins=[0,6,18,30,60,90])\n",
    "\n",
    "survived_by_field(titanic_data, 'Age Group')"
   ]
  },
  {
   "cell_type": "markdown",
   "metadata": {
    "deletable": true,
    "editable": true
   },
   "source": [
    "0-6岁小孩生存率最高0.70，中年30-60岁和少年6-18岁生存率要高于青年18-30岁，60岁以上人群生存率很低。年龄数据有遗失并准确。"
   ]
  },
  {
   "cell_type": "code",
   "execution_count": 244,
   "metadata": {
    "collapsed": false,
    "deletable": true,
    "editable": true
   },
   "outputs": [
    {
     "name": "stdout",
     "output_type": "stream",
     "text": [
      "              survived  total  Survived\n",
      "AgeNew Group                           \n",
      "(0, 6]              35     51  0.686275\n",
      "(6, 18]             37     92  0.402174\n",
      "(18, 30]           132    425  0.310588\n",
      "(30, 60]           133    301  0.441860\n",
      "(60, 90]             5     22  0.227273\n"
     ]
    },
    {
     "data": {
      "image/png": "[encoded data removed]",
      "text/plain": [
       "<matplotlib.figure.Figure at 0x11f0072d0>"
      ]
     },
     "metadata": {},
     "output_type": "display_data"
    }
   ],
   "source": [
    "titanic_data['AgeNew Group'] = pd.cut(titanic_data['AgeNew'], bins=[0,6,18,30,60,90])\n",
    "survived_by_field(titanic_data, 'AgeNew Group')"
   ]
  },
  {
   "cell_type": "markdown",
   "metadata": {
    "deletable": true,
    "editable": true
   },
   "source": [
    "将年龄为NaN的数据根据数据整体中的处理填入，重新分组，差异不大"
   ]
  },
  {
   "cell_type": "markdown",
   "metadata": {
    "deletable": true,
    "editable": true
   },
   "source": [
    "## 3.4 相关系数比较"
   ]
  },
  {
   "cell_type": "code",
   "execution_count": 232,
   "metadata": {
    "collapsed": false,
    "deletable": true,
    "editable": true
   },
   "outputs": [
    {
     "data": {
      "text/plain": [
       "PassengerId   -0.005007\n",
       "Survived       1.000000\n",
       "Pclass        -0.338481\n",
       "Age           -0.077221\n",
       "SibSp         -0.035322\n",
       "Parch          0.081629\n",
       "Fare           0.257307\n",
       "AgeNew        -0.078816\n",
       "Sex1          -0.543351\n",
       "Name: Survived, dtype: float64"
      ]
     },
     "execution_count": 232,
     "metadata": {},
     "output_type": "execute_result"
    }
   ],
   "source": [
    "titanic_data_c = titanic_data.copy() #创见一个副本,用于测试\n",
    "\n",
    "titanic_data_c['Sex1'] = titanic_data['Sex'].apply(lambda x: 0 if x == 'female' else 1)\n",
    "# titanic_data_c['Sex1'] = titanic_data_c['Sex'].map({'female':0, 'male':1}) or use repalce \n",
    "\n",
    "titanic_data_c.corr(method='pearson', min_periods=1)['Survived']\n",
    "\n"
   ]
  },
  {
   "cell_type": "markdown",
   "metadata": {
    "deletable": true,
    "editable": true
   },
   "source": [
    "性别、仓位和费用与生存率有显著相关，其中性别最重要"
   ]
  },
  {
   "cell_type": "markdown",
   "metadata": {
    "deletable": true,
    "editable": true
   },
   "source": [
    "## 3.5 有亲子关系乘客生存率分析"
   ]
  },
  {
   "cell_type": "code",
   "execution_count": 233,
   "metadata": {
    "collapsed": false,
    "deletable": true,
    "editable": true
   },
   "outputs": [
    {
     "name": "stdout",
     "output_type": "stream",
     "text": [
      "       survived  total  Survived\n",
      "Parch                           \n",
      "0           233    678  0.343658\n",
      "1            65    118  0.550847\n",
      "2            40     80  0.500000\n",
      "3             3      5  0.600000\n",
      "4             0      4  0.000000\n",
      "5             1      5  0.200000\n",
      "6             0      1  0.000000\n"
     ]
    },
    {
     "data": {
      "image/png": "[encoded data removed]",
      "text/plain": [
       "<matplotlib.figure.Figure at 0x11e5e9c90>"
      ]
     },
     "metadata": {},
     "output_type": "display_data"
    }
   ],
   "source": [
    "#titanic_data_c['Parch'].plot.hist()\n",
    "survived_by_field(titanic_data, 'Parch')"
   ]
  },
  {
   "cell_type": "markdown",
   "metadata": {
    "deletable": true,
    "editable": true
   },
   "source": [
    "从上表可看出有Parch 的生存率高于平均生存率, 新建Family列，对Parch进行分类"
   ]
  },
  {
   "cell_type": "code",
   "execution_count": 234,
   "metadata": {
    "collapsed": false,
    "deletable": true,
    "editable": true
   },
   "outputs": [
    {
     "name": "stdout",
     "output_type": "stream",
     "text": [
      "        survived  total  Survived\n",
      "Family                           \n",
      "False        233    678  0.343658\n",
      "True         109    213  0.511737\n"
     ]
    },
    {
     "data": {
      "image/png": "[encoded data removed]",
      "text/plain": [
       "<matplotlib.figure.Figure at 0x11e4a9810>"
      ]
     },
     "metadata": {},
     "output_type": "display_data"
    }
   ],
   "source": [
    "titanic_data_c['Family'] = (titanic_data_c['Parch'] != 0)\n",
    "survived_by_field(titanic_data_c, 'Family')"
   ]
  },
  {
   "cell_type": "markdown",
   "metadata": {
    "deletable": true,
    "editable": true
   },
   "source": [
    "将有Parch关系的乘客归类，Parch生存率明显较高为0.51\n"
   ]
  },
  {
   "cell_type": "code",
   "execution_count": 236,
   "metadata": {
    "collapsed": false,
    "deletable": true,
    "editable": true
   },
   "outputs": [
    {
     "name": "stdout",
     "output_type": "stream",
     "text": [
      "            survived  total  Survived\n",
      "Age Group2                           \n",
      "(0, 6]            32     46  0.695652\n",
      "(6, 18]           18     43  0.418605\n",
      "(18, 30]          21     37  0.567568\n",
      "(30, 60]          33     64  0.515625\n",
      "(60, 90]           0      3  0.000000\n"
     ]
    },
    {
     "data": {
      "image/png": "[encoded data removed]",
      "text/plain": [
       "<matplotlib.figure.Figure at 0x11ea76b10>"
      ]
     },
     "metadata": {},
     "output_type": "display_data"
    }
   ],
   "source": [
    "#对Parch类乘客进行年龄段划分，查看生存率差异\n",
    "titanic_data_c['Age Group2'] = pd.cut(titanic_data_c['Age'], bins=[0,6,18,30,60,90])\n",
    "survived_by_field(titanic_data_c[titanic_data_c['Family']], 'Age Group2')"
   ]
  },
  {
   "cell_type": "markdown",
   "metadata": {
    "deletable": true,
    "editable": true
   },
   "source": [
    "结论：\n",
    "- 在有Parch关系的乘客中，0-60岁的生存率都高于平均生存率0.38，最高的是0-6岁群体，这应该是小孩更易得到照顾。\n",
    "- 6-18岁群体，生存率较低0.42，不清楚原因\n",
    "- 从数据上低年龄乘客和成年乘客的生存率都高于平均值，难以判断是否有父母把生存机会让给孩子的情况出现，如果有家庭数据可能能够进一步分析，从名字关系分析也许是个思路。"
   ]
  },
  {
   "cell_type": "markdown",
   "metadata": {
    "deletable": true,
    "editable": true
   },
   "source": [
    "## 3.6 Sibsp 关系下生存率分析"
   ]
  },
  {
   "cell_type": "markdown",
   "metadata": {
    "deletable": true,
    "editable": true
   },
   "source": [
    "建立‘Related’列，值为True 表示有伴侣或兄妹 "
   ]
  },
  {
   "cell_type": "code",
   "execution_count": 239,
   "metadata": {
    "collapsed": false,
    "deletable": true,
    "editable": true
   },
   "outputs": [
    {
     "name": "stdout",
     "output_type": "stream",
     "text": [
      "         survived  total  Survived\n",
      "Related                           \n",
      "False         210    608  0.345395\n",
      "True          132    283  0.466431\n"
     ]
    },
    {
     "data": {
      "image/png": "[encoded data removed]",
      "text/plain": [
       "<matplotlib.figure.Figure at 0x11f15ce10>"
      ]
     },
     "metadata": {},
     "output_type": "display_data"
    }
   ],
   "source": [
    "# titanic_data_c['SibSp'].plot.hist()\n",
    "titanic_data_c['Related'] = (titanic_data_c['SibSp'] != 0)\n",
    "survived_by_field(titanic_data_c, 'Related')"
   ]
  },
  {
   "cell_type": "markdown",
   "metadata": {
    "deletable": true,
    "editable": true
   },
   "source": [
    "Related 为 True 时，生存率为0.46，稍高于平均值0.38"
   ]
  },
  {
   "cell_type": "code",
   "execution_count": 240,
   "metadata": {
    "collapsed": false,
    "deletable": true,
    "editable": true
   },
   "outputs": [
    {
     "data": {
      "text/plain": [
       "PassengerId   -0.005007\n",
       "Survived       1.000000\n",
       "Pclass        -0.338481\n",
       "Age           -0.077221\n",
       "SibSp         -0.035322\n",
       "Parch          0.081629\n",
       "Fare           0.257307\n",
       "AgeNew        -0.078816\n",
       "Sex1          -0.543351\n",
       "Family         0.147408\n",
       "Related        0.115867\n",
       "Name: Survived, dtype: float64"
      ]
     },
     "execution_count": 240,
     "metadata": {},
     "output_type": "execute_result"
    }
   ],
   "source": [
    "titanic_data_c.corr(method='pearson', min_periods=1)['Survived']"
   ]
  },
  {
   "cell_type": "markdown",
   "metadata": {
    "deletable": true,
    "editable": true
   },
   "source": [
    "从相关系数看对生存率影响Sibsp小于亲子关"
   ]
  },
  {
   "cell_type": "code",
   "execution_count": 238,
   "metadata": {
    "collapsed": false,
    "deletable": true,
    "editable": true
   },
   "outputs": [
    {
     "name": "stdout",
     "output_type": "stream",
     "text": [
      "        survived  total  Survived\n",
      "Sex                              \n",
      "female        96    140  0.685714\n",
      "male          36    143  0.251748\n"
     ]
    },
    {
     "data": {
      "image/png": "[encoded data removed]",
      "text/plain": [
       "<matplotlib.figure.Figure at 0x11ec685d0>"
      ]
     },
     "metadata": {},
     "output_type": "display_data"
    }
   ],
   "source": [
    "survived_by_field(titanic_data_c[titanic_data_c['Related']], 'Sex')"
   ]
  },
  {
   "cell_type": "markdown",
   "metadata": {
    "deletable": true,
    "editable": true
   },
   "source": [
    "性别之间差异与乘客总体样本之间没有明显差异"
   ]
  },
  {
   "cell_type": "markdown",
   "metadata": {
    "collapsed": false,
    "deletable": true,
    "editable": true
   },
   "source": [
    "# 结论\n",
    "- 仓位等级、性别、年龄对与生存都有较强相关性，从相关系数看性别影响最大(年龄分段未包含在相关系数计算中）。而0-6岁群体是所有乘客中生存率最高的。\n",
    "- 有亲子关系样本的生存率要高于整体，因为缺乏家庭分组关系没有分析出是否有父母让出生存机会给孩子的情况。\n",
    "- 有兄妹/伴侣关系的乘客群体生存率略高于整体，这个群体内部性别与生存率关系与整体样本保持一致。\n",
    "- 数据中年龄缺失177个，对与年龄相关分析有较大影响\n",
    "- Fare 数据有较大异常，未找到原因，分析时略过了。\n",
    "- 总乘客2224名，样本891名，超过1/3, 采样方式未知，并不能完全反应整体情况(但具有一定代表性）\n",
    "- 上述分析只是表明不同参数之间的相关性，并不意味着有因果关系，相互关系也许有潜在变量影响，比如船舱的位置、发生船难时乘客所在的区域等。"
   ]
  }
 ],
 "metadata": {
  "kernelspec": {
   "display_name": "Python 2",
   "language": "python",
   "name": "python2"
  },
  "language_info": {
   "codemirror_mode": {
    "name": "ipython",
    "version": 2
   },
   "file_extension": ".py",
   "mimetype": "text/x-python",
   "name": "python",
   "nbconvert_exporter": "python",
   "pygments_lexer": "ipython2",
   "version": "2.7.13"
  }
 },
 "nbformat": 4,
 "nbformat_minor": 2
}
